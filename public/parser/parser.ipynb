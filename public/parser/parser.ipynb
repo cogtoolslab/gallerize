{
 "cells": [
  {
   "cell_type": "code",
   "execution_count": 3,
   "metadata": {},
   "outputs": [
    {
     "name": "stdout",
     "output_type": "stream",
     "text": [
      "pased  754  files\n"
     ]
    }
   ],
   "source": [
    "import os\n",
    "import csv\n",
    "i = 0\n",
    "directory = os.path.join('../images')\n",
    "with open('parsed.csv', 'w') as outcsv:\n",
    "    fieldnames = [\"class\", \"age\", \"expID\", \"sessionID\", \"filename\", \"valid\"]\n",
    "    writer = csv.DictWriter(outcsv, fieldnames = fieldnames)\n",
    "    writer.writeheader()\n",
    "    for root, dirs, files in os.walk(directory):\n",
    "        for file in files:\n",
    "            i +=1\n",
    "            arr = file.split('_')\n",
    "            className = arr[0]\n",
    "            age = arr[2][3:]\n",
    "            expID = arr[3]+arr[4]+arr[5][:2]\n",
    "            sessionID = arr[5][2:]\n",
    "            valid = \"1\"\n",
    "            writer.writerow({\"class\": className, \"age\": age, \"expID\": expID, \"sessionID\": sessionID, \"filename\": file, \"valid\": valid})\n",
    "print(\"pased \", i , \" files\")"
   ]
  },
  {
   "cell_type": "code",
   "execution_count": 13,
   "metadata": {},
   "outputs": [
    {
     "data": {
      "text/plain": [
       "'1'"
      ]
     },
     "execution_count": 13,
     "metadata": {},
     "output_type": "execute_result"
    }
   ],
   "source": []
  },
  {
   "cell_type": "code",
   "execution_count": null,
   "metadata": {},
   "outputs": [],
   "source": []
  }
 ],
 "metadata": {
  "kernelspec": {
   "display_name": "Python 3",
   "language": "python",
   "name": "python3"
  },
  "language_info": {
   "codemirror_mode": {
    "name": "ipython",
    "version": 3
   },
   "file_extension": ".py",
   "mimetype": "text/x-python",
   "name": "python",
   "nbconvert_exporter": "python",
   "pygments_lexer": "ipython3",
   "version": "3.6.4"
  }
 },
 "nbformat": 4,
 "nbformat_minor": 2
}
