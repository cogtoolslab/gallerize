{
 "cells": [
  {
   "cell_type": "markdown",
   "metadata": {},
   "source": [
    "### Purpose of this notebook\n",
    "- parse filenames to generate metadata \n",
    "- uploads image data to S3"
   ]
  },
  {
   "cell_type": "markdown",
   "metadata": {},
   "source": [
    "### setup"
   ]
  },
  {
   "cell_type": "code",
   "execution_count": null,
   "metadata": {
    "collapsed": false
   },
   "outputs": [],
   "source": [
    "import os\n",
    "import csv\n",
    "import pandas as pd\n",
    "import numpy as np\n",
    "import boto\n",
    "from IPython.display import clear_output"
   ]
  },
  {
   "cell_type": "code",
   "execution_count": null,
   "metadata": {
    "collapsed": true
   },
   "outputs": [],
   "source": [
    "## define paths\n",
    "path_to_png = os.path.join('..','images')\n",
    "out_path = 'parsed.csv'\n",
    "bucket_name = 'kiddraw-cdm-gallerize-test' "
   ]
  },
  {
   "cell_type": "markdown",
   "metadata": {},
   "source": [
    "### parse filenames"
   ]
  },
  {
   "cell_type": "markdown",
   "metadata": {},
   "source": [
    "This was written specifically to handle filenaming conventions from the `kiddraw` project. To adapt this to another project, write your own custom filename parser."
   ]
  },
  {
   "cell_type": "code",
   "execution_count": null,
   "metadata": {
    "collapsed": false
   },
   "outputs": [],
   "source": [
    "with open(out_path, 'w') as outcsv:\n",
    "    fieldnames = [\"class\", \"age\", \"expID\", \"sessionID\", \"filename\", \"valid\"]\n",
    "    writer = csv.DictWriter(outcsv, fieldnames = fieldnames)    \n",
    "    writer.writeheader()\n",
    "    for root, dirs, files in os.walk(path_to_png):\n",
    "        for i,file in enumerate(files):\n",
    "            arr = file.split('_')\n",
    "            className = arr[0]\n",
    "            age = arr[2][3:]\n",
    "            expID = arr[3]+arr[4]+arr[5][:2]\n",
    "            sessionID = arr[5][2:]\n",
    "            valid = \"1\"\n",
    "            writer.writerow({\"class\": className, \"age\": age, \"expID\": expID, \"sessionID\": sessionID, \"filename\": file, \"valid\": valid})\n",
    "print(\"Done parsing {} files.\".format(i))"
   ]
  },
  {
   "cell_type": "markdown",
   "metadata": {},
   "source": [
    "### upload images to S3"
   ]
  },
  {
   "cell_type": "code",
   "execution_count": null,
   "metadata": {
    "collapsed": false
   },
   "outputs": [],
   "source": [
    "runThis = 1\n",
    "if runThis:\n",
    "    conn = boto.connect_s3()\n",
    "    b = conn.create_bucket(bucket_name) ### if bucket already exists, then get_bucket, else create_bucket\n",
    "    for ind,im in enumerate(os.listdir(path_to_png)):\n",
    "        if im[-3:]=='png':\n",
    "            print ind, im\n",
    "            k = b.new_key(im)\n",
    "            k.set_contents_from_filename(os.path.join(path_to_png,im))\n",
    "            k.set_acl('public-read')\n",
    "            clear_output(wait=True)            \n",
    "print 'Done!'"
   ]
  },
  {
   "cell_type": "markdown",
   "metadata": {},
   "source": [
    "#### Generates a URL for each image following this rule: \n",
    "`'https://' + bucket_name + '.s3.amazonaws.com/' + filename`\n",
    "\n",
    "So for example: \n",
    "If `bucket_name = 'kiddraw-cdm-gallerize-test'` \n",
    "and `filename = 'airplane_sketch_age10_cdm_run_v31529008817526.png'` \n",
    "then the image URL would be: `https://kiddraw-cdm-gallerize-test.s3.amazonaws.com/airplane_sketch_age10_cdm_run_v31529008817526.png`"
   ]
  },
  {
   "cell_type": "code",
   "execution_count": null,
   "metadata": {
    "collapsed": true
   },
   "outputs": [],
   "source": []
  }
 ],
 "metadata": {
  "kernelspec": {
   "display_name": "Python 2",
   "language": "python",
   "name": "python2"
  },
  "language_info": {
   "codemirror_mode": {
    "name": "ipython",
    "version": 2
   },
   "file_extension": ".py",
   "mimetype": "text/x-python",
   "name": "python",
   "nbconvert_exporter": "python",
   "pygments_lexer": "ipython2",
   "version": "2.7.13"
  }
 },
 "nbformat": 4,
 "nbformat_minor": 2
}
