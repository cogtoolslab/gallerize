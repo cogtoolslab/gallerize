{
 "cells": [
  {
   "cell_type": "markdown",
   "metadata": {},
   "source": [
    "## import modules"
   ]
  },
  {
   "cell_type": "code",
   "execution_count": 28,
   "metadata": {
    "collapsed": false
   },
   "outputs": [],
   "source": [
    "import pymongo as pm\n",
    "import pandas as pd\n",
    "import json\n",
    "from IPython.display import clear_output"
   ]
  },
  {
   "cell_type": "markdown",
   "metadata": {},
   "source": [
    "## connect to db"
   ]
  },
  {
   "cell_type": "markdown",
   "metadata": {},
   "source": [
    "#### (1) establish tunnel to lab server\n",
    "Run this in terminal:\n",
    "`alias tunnel_cogtoolslab=\"ssh -fNL 27017:127.0.0.1:27017 USER@cogtoolslab.org\"`"
   ]
  },
  {
   "cell_type": "markdown",
   "metadata": {},
   "source": [
    "#### (2) establish connection to target db and collection"
   ]
  },
  {
   "cell_type": "code",
   "execution_count": 23,
   "metadata": {
    "collapsed": true
   },
   "outputs": [],
   "source": [
    "# set vars \n",
    "auth = pd.read_csv('auth.txt', header = None) # this auth.txt file contains the password for the sketchloop user\n",
    "pswd = auth.values[0][0]\n",
    "user = 'sketchloop'\n",
    "host = 'cogtoolslab.org' ## cocolab ip address\n",
    "\n",
    "conn = pm.MongoClient('mongodb://sketchloop:' + pswd + '@127.0.0.1')\n",
    "db = conn['gallerize']\n",
    "coll = db['kiddraw']"
   ]
  },
  {
   "cell_type": "markdown",
   "metadata": {},
   "source": [
    "## load in metadata as json and insert into mongo"
   ]
  },
  {
   "cell_type": "code",
   "execution_count": 25,
   "metadata": {
    "collapsed": false
   },
   "outputs": [],
   "source": [
    "## load in metadata CSV\n",
    "out_path = 'parsed.csv'\n",
    "x = pd.read_csv(out_path)\n",
    "\n",
    "## convert to json\n",
    "y = x.to_json(orient='records')\n",
    "z = json.loads(y)"
   ]
  },
  {
   "cell_type": "code",
   "execution_count": 29,
   "metadata": {
    "collapsed": false
   },
   "outputs": [
    {
     "data": {
      "text/plain": [
       "{u'age': 5,\n",
       " u'class': u'chair',\n",
       " u'expID': u'cdmrunv3',\n",
       " u'filename': u'chair_sketch_age5_cdm_run_v31530732171052.png',\n",
       " u'sessionID': u'1530732171052.png',\n",
       " u'valid': 1}"
      ]
     },
     "execution_count": 29,
     "metadata": {},
     "output_type": "execute_result"
    }
   ],
   "source": [
    "## inspect example of record to make sure it looks right before inserting new data\n",
    "z[0]"
   ]
  },
  {
   "cell_type": "code",
   "execution_count": 32,
   "metadata": {
    "collapsed": false
   },
   "outputs": [
    {
     "name": "stdout",
     "output_type": "stream",
     "text": [
      "Inserted 753 records.\n"
     ]
    }
   ],
   "source": [
    "## loop through list of records and insert each into collection\n",
    "reallyRun = 1\n",
    "if reallyRun:\n",
    "    for i,_z in enumerate(z):\n",
    "        coll.insert_one(_z)\n",
    "        print('Inserted {} records.'.format(i))\n",
    "        clear_output(wait=True)\n",
    "else:\n",
    "    print('Did not insert any new data.')"
   ]
  },
  {
   "cell_type": "code",
   "execution_count": 17,
   "metadata": {
    "collapsed": false
   },
   "outputs": [],
   "source": []
  },
  {
   "cell_type": "markdown",
   "metadata": {},
   "source": [
    "### inspect & validate collection (to make sure records look right)"
   ]
  },
  {
   "cell_type": "code",
   "execution_count": 34,
   "metadata": {
    "collapsed": false
   },
   "outputs": [
    {
     "name": "stdout",
     "output_type": "stream",
     "text": [
      "There are 754 records in this collection.\n"
     ]
    }
   ],
   "source": [
    "print('There are {} records in this collection.'.format(coll.count()))"
   ]
  },
  {
   "cell_type": "code",
   "execution_count": 44,
   "metadata": {
    "collapsed": false
   },
   "outputs": [
    {
     "name": "stdout",
     "output_type": "stream",
     "text": [
      "There are 28 chair records in this collection.\n",
      "There are 28 chair records in this collection.\n",
      "There are 43 house records in this collection.\n",
      "There are 51 phone records in this collection.\n",
      "There are 28 cat records in this collection.\n",
      "There are 31 airplane records in this collection.\n",
      "There are 28 rabbit records in this collection.\n",
      "There are 27 bird records in this collection.\n",
      "There are 27 bowl records in this collection.\n",
      "There are 31 train records in this collection.\n",
      "There are 26 bike records in this collection.\n",
      "There are 28 scissors records in this collection.\n",
      "There are 50 boat records in this collection.\n",
      "There are 21 bear records in this collection.\n",
      "There are 28 couch records in this collection.\n",
      "There are 43 tree records in this collection.\n",
      "There are 39 person records in this collection.\n",
      "There are 33 car records in this collection.\n",
      "There are 45 dog records in this collection.\n",
      "There are 44 fish records in this collection.\n",
      "There are 39 cup records in this collection.\n",
      "There are 25 sheep records in this collection.\n",
      "There are 16 frog records in this collection.\n",
      "There are 23 key records in this collection.\n"
     ]
    }
   ],
   "source": [
    "class_list = coll.distinct('class')\n",
    "for i,this_class in enumerate(class_list):\n",
    "    print('There are {} {} records in this collection.'.format(coll.find({'class':this_class}).count(),this_class))"
   ]
  },
  {
   "cell_type": "code",
   "execution_count": 47,
   "metadata": {
    "collapsed": false
   },
   "outputs": [
    {
     "name": "stdout",
     "output_type": "stream",
     "text": [
      "There are 67 records from 2-year-olds in this collection.\n",
      "There are 173 records from 3-year-olds in this collection.\n",
      "There are 116 records from 4-year-olds in this collection.\n",
      "There are 142 records from 5-year-olds in this collection.\n",
      "There are 60 records from 6-year-olds in this collection.\n",
      "There are 46 records from 7-year-olds in this collection.\n",
      "There are 91 records from 8-year-olds in this collection.\n",
      "There are 14 records from 9-year-olds in this collection.\n",
      "There are 45 records from 10-year-olds in this collection.\n"
     ]
    }
   ],
   "source": [
    "age_list = sorted(coll.distinct('age'))\n",
    "for i,this_age in enumerate(age_list):\n",
    "    print('There are {} records from {}-year-olds in this collection.'.format(coll.find({'age':this_age}).count(),this_age))"
   ]
  },
  {
   "cell_type": "code",
   "execution_count": null,
   "metadata": {
    "collapsed": false
   },
   "outputs": [],
   "source": []
  },
  {
   "cell_type": "code",
   "execution_count": null,
   "metadata": {
    "collapsed": true
   },
   "outputs": [],
   "source": []
  }
 ],
 "metadata": {
  "kernelspec": {
   "display_name": "Python 2",
   "language": "python",
   "name": "python2"
  },
  "language_info": {
   "codemirror_mode": {
    "name": "ipython",
    "version": 2
   },
   "file_extension": ".py",
   "mimetype": "text/x-python",
   "name": "python",
   "nbconvert_exporter": "python",
   "pygments_lexer": "ipython2",
   "version": "2.7.13"
  }
 },
 "nbformat": 4,
 "nbformat_minor": 2
}
