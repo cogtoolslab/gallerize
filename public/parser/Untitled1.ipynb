{
 "cells": [
  {
   "cell_type": "code",
   "execution_count": 1,
   "metadata": {},
   "outputs": [],
   "source": [
    "import pymongo as pm\n",
    "import pandas as pd\n",
    "import json\n",
    "from IPython.display import clear_output"
   ]
  },
  {
   "cell_type": "code",
   "execution_count": 4,
   "metadata": {},
   "outputs": [],
   "source": [
    "# set vars \n",
    "auth = pd.read_csv('auth.txt', header = None) # this auth.txt file contains the password for the sketchloop user\n",
    "pswd = auth.values[0][0]\n",
    "user = 'sketchloop'\n",
    "host = 'cogtoolslab.org' ## cocolab ip address\n",
    "\n",
    "conn = pm.MongoClient('mongodb://sketchloop:' + 'ukgmv47mhrx4' + '@127.0.0.1')\n",
    "db = conn['gallerize']\n",
    "coll = db['kiddraw']"
   ]
  },
  {
   "cell_type": "code",
   "execution_count": 14,
   "metadata": {},
   "outputs": [],
   "source": [
    "## load in metadata CSV\n",
    "out_path = 'parsed.csv'\n",
    "x = pd.read_csv(out_path)\n",
    "\n",
    "## convert to json\n",
    "y = x.to_json(orient='records')\n",
    "z = json.loads(y)"
   ]
  },
  {
   "cell_type": "code",
   "execution_count": 16,
   "metadata": {},
   "outputs": [
    {
     "data": {
      "text/plain": [
       "{'class': 'chair',\n",
       " 'age': 5,\n",
       " 'expID': 'cdmrunv3',\n",
       " 'sessionID': '1530732171052.png',\n",
       " 'filename': 'chair_sketch_age5_cdm_run_v31530732171052.png',\n",
       " 'valid': 1}"
      ]
     },
     "execution_count": 16,
     "metadata": {},
     "output_type": "execute_result"
    }
   ],
   "source": [
    "z[0]"
   ]
  },
  {
   "cell_type": "code",
   "execution_count": 17,
   "metadata": {},
   "outputs": [
    {
     "name": "stdout",
     "output_type": "stream",
     "text": [
      "Inserted 753 records.\n"
     ]
    }
   ],
   "source": [
    "## loop through list of records and insert each into collection\n",
    "reallyRun = 1\n",
    "if reallyRun:\n",
    "    for i,_z in enumerate(z):\n",
    "        coll.insert_one(_z)\n",
    "        print('Inserted {} records.'.format(i))\n",
    "        clear_output(wait=True)\n",
    "else:\n",
    "    print('Did not insert any new data.')"
   ]
  },
  {
   "cell_type": "code",
   "execution_count": 18,
   "metadata": {},
   "outputs": [
    {
     "name": "stdout",
     "output_type": "stream",
     "text": [
      "There are 754 records in this collection.\n"
     ]
    },
    {
     "name": "stderr",
     "output_type": "stream",
     "text": [
      "/anaconda3/lib/python3.6/site-packages/ipykernel_launcher.py:1: DeprecationWarning: count is deprecated. Use estimated_document_count or count_documents instead. Please note that $where must be replaced by $expr, $near must be replaced by $geoWithin with $center, and $nearSphere must be replaced by $geoWithin with $centerSphere\n",
      "  \"\"\"Entry point for launching an IPython kernel.\n"
     ]
    }
   ],
   "source": [
    "print('There are {} records in this collection.'.format(coll.count()))"
   ]
  },
  {
   "cell_type": "code",
   "execution_count": 19,
   "metadata": {},
   "outputs": [
    {
     "name": "stdout",
     "output_type": "stream",
     "text": [
      "There are 28 chair records in this collection.\n",
      "There are 43 house records in this collection.\n",
      "There are 51 phone records in this collection.\n",
      "There are 28 cat records in this collection.\n"
     ]
    },
    {
     "name": "stderr",
     "output_type": "stream",
     "text": [
      "/anaconda3/lib/python3.6/site-packages/ipykernel_launcher.py:3: DeprecationWarning: count is deprecated. Use Collection.count_documents instead.\n",
      "  This is separate from the ipykernel package so we can avoid doing imports until\n"
     ]
    },
    {
     "name": "stdout",
     "output_type": "stream",
     "text": [
      "There are 31 airplane records in this collection.\n",
      "There are 28 rabbit records in this collection.\n",
      "There are 27 bird records in this collection.\n",
      "There are 27 bowl records in this collection.\n",
      "There are 31 train records in this collection.\n",
      "There are 26 bike records in this collection.\n",
      "There are 28 scissors records in this collection.\n",
      "There are 50 boat records in this collection.\n",
      "There are 21 bear records in this collection.\n",
      "There are 28 couch records in this collection.\n",
      "There are 43 tree records in this collection.\n",
      "There are 39 person records in this collection.\n",
      "There are 33 car records in this collection.\n",
      "There are 45 dog records in this collection.\n",
      "There are 44 fish records in this collection.\n",
      "There are 39 cup records in this collection.\n",
      "There are 25 sheep records in this collection.\n",
      "There are 16 frog records in this collection.\n",
      "There are 23 key records in this collection.\n"
     ]
    }
   ],
   "source": [
    "class_list = coll.distinct('class')\n",
    "for i,this_class in enumerate(class_list):\n",
    "    print('There are {} {} records in this collection.'.format(coll.find({'class':this_class}).count(),this_class))"
   ]
  },
  {
   "cell_type": "code",
   "execution_count": 20,
   "metadata": {},
   "outputs": [
    {
     "name": "stderr",
     "output_type": "stream",
     "text": [
      "/anaconda3/lib/python3.6/site-packages/ipykernel_launcher.py:3: DeprecationWarning: count is deprecated. Use Collection.count_documents instead.\n",
      "  This is separate from the ipykernel package so we can avoid doing imports until\n"
     ]
    },
    {
     "name": "stdout",
     "output_type": "stream",
     "text": [
      "There are 67 records from 2-year-olds in this collection.\n",
      "There are 173 records from 3-year-olds in this collection.\n",
      "There are 116 records from 4-year-olds in this collection.\n",
      "There are 142 records from 5-year-olds in this collection.\n",
      "There are 60 records from 6-year-olds in this collection.\n",
      "There are 46 records from 7-year-olds in this collection.\n",
      "There are 91 records from 8-year-olds in this collection.\n",
      "There are 14 records from 9-year-olds in this collection.\n",
      "There are 45 records from 10-year-olds in this collection.\n"
     ]
    }
   ],
   "source": [
    "age_list = sorted(coll.distinct('age'))\n",
    "for i,this_age in enumerate(age_list):\n",
    "    print('There are {} records from {}-year-olds in this collection.'.format(coll.find({'age':this_age}).count(),this_age))"
   ]
  },
  {
   "cell_type": "code",
   "execution_count": null,
   "metadata": {},
   "outputs": [],
   "source": []
  }
 ],
 "metadata": {
  "kernelspec": {
   "display_name": "Python 3",
   "language": "python",
   "name": "python3"
  },
  "language_info": {
   "codemirror_mode": {
    "name": "ipython",
    "version": 3
   },
   "file_extension": ".py",
   "mimetype": "text/x-python",
   "name": "python",
   "nbconvert_exporter": "python",
   "pygments_lexer": "ipython3",
   "version": "3.6.5"
  }
 },
 "nbformat": 4,
 "nbformat_minor": 2
}
