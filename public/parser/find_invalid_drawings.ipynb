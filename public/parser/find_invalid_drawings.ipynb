{
 "cells": [
  {
   "cell_type": "code",
   "execution_count": 1,
   "metadata": {},
   "outputs": [],
   "source": [
    "import os\n",
    "import csv\n",
    "import pandas as pd\n",
    "import numpy as np\n",
    "from IPython.display import clear_output\n",
    "import ast\n",
    "import pymongo as pm"
   ]
  },
  {
   "cell_type": "code",
   "execution_count": 2,
   "metadata": {},
   "outputs": [],
   "source": [
    "# take the drawing descriptive file"
   ]
  },
  {
   "cell_type": "code",
   "execution_count": 3,
   "metadata": {},
   "outputs": [],
   "source": [
    "# set vars \n",
    "auth = pd.read_csv('auth.txt', header = None) # this auth.txt file contains the password for the stanford-cogsci.org user\n",
    "pswd = auth.values[0][0]\n",
    "conn = pm.MongoClient('mongodb://stanford:' + pswd + '@127.0.0.1')\n",
    "db = conn['kiddraw']\n",
    "coll = db['invalid_draw']"
   ]
  },
  {
   "cell_type": "code",
   "execution_count": 25,
   "metadata": {},
   "outputs": [],
   "source": [
    "coll.drop()"
   ]
  },
  {
   "cell_type": "code",
   "execution_count": 4,
   "metadata": {},
   "outputs": [
    {
     "name": "stdout",
     "output_type": "stream",
     "text": [
      "{u'age': u'age3', u'session_id': u'cdm_run_v51555275931780', u'filename': u'a camel_sketch_age3_cdm_run_v51555275931780.png', u'worker_id': u'abc', u'__v': 0, u'date': datetime.datetime(2020, 3, 22, 23, 25, 45, 273000), u'_id': ObjectId('5e77f401365834101ce2ea16'), u'class': u'a camel'}\n",
      "{u'age': u'age9', u'session_id': u'cdm_run_v51553885975528', u'filename': u'a camel_sketch_age9_cdm_run_v51553885975528.png', u'worker_id': u'abc', u'__v': 0, u'date': datetime.datetime(2020, 3, 22, 23, 25, 47, 396000), u'_id': ObjectId('5e77f401365834101ce2ea17'), u'class': u'a camel'}\n",
      "{u'age': u'age2', u'session_id': u'cdm_run_v51551556208568', u'filename': u'a whale_sketch_age2_cdm_run_v51551556208568.png', u'worker_id': u'abc', u'__v': 0, u'date': datetime.datetime(2020, 3, 22, 23, 27, 22, 717000), u'_id': ObjectId('5e77f460365834101ce2ea18'), u'class': u'a whale'}\n",
      "{u'age': u'age3', u'session_id': u'cdm_run_v51553630994448', u'filename': u'a whale_sketch_age3_cdm_run_v51553630994448.png', u'worker_id': u'abc', u'__v': 0, u'date': datetime.datetime(2020, 3, 22, 23, 27, 23, 574000), u'_id': ObjectId('5e77f460365834101ce2ea19'), u'class': u'a whale'}\n",
      "{u'age': u'age3', u'session_id': u'cdm_run_v51555182622937', u'filename': u'a whale_sketch_age3_cdm_run_v51555182622937.png', u'worker_id': u'abc', u'__v': 0, u'date': datetime.datetime(2020, 3, 22, 23, 27, 25, 455000), u'_id': ObjectId('5e77f460365834101ce2ea1a'), u'class': u'a whale'}\n",
      "{u'age': u'age6', u'session_id': u'cdm_run_v51557423306618', u'filename': u'a whale_sketch_age6_cdm_run_v51557423306618.png', u'worker_id': u'abc', u'__v': 0, u'date': datetime.datetime(2020, 3, 22, 23, 27, 26, 101000), u'_id': ObjectId('5e77f460365834101ce2ea1b'), u'class': u'a whale'}\n",
      "{u'age': u'age2', u'session_id': u'cdm_run_v51558557501843', u'filename': u'a whale_sketch_age2_cdm_run_v51558557501843.png', u'worker_id': u'abc', u'__v': 0, u'date': datetime.datetime(2020, 3, 22, 23, 27, 26, 908000), u'_id': ObjectId('5e77f460365834101ce2ea1c'), u'class': u'a whale'}\n",
      "{u'age': u'age10', u'session_id': u'cdm_run_v51551566413312', u'filename': u'this square_sketch_age10_cdm_run_v51551566413312.png', u'worker_id': u'abc', u'__v': 0, u'date': datetime.datetime(2020, 3, 22, 23, 27, 29, 764000), u'_id': ObjectId('5e77f465365834101ce2ea1d'), u'class': u'this square'}\n",
      "{u'age': u'age2', u'session_id': u'cdm_run_v51557858223101', u'filename': u'this square_sketch_age2_cdm_run_v51557858223101.png', u'worker_id': u'abc', u'__v': 0, u'date': datetime.datetime(2020, 3, 22, 23, 27, 30, 323000), u'_id': ObjectId('5e77f465365834101ce2ea1e'), u'class': u'this square'}\n",
      "{u'age': u'age3', u'session_id': u'cdm_run_v51553719290359', u'filename': u'a cactus_sketch_age3_cdm_run_v51553719290359.png', u'worker_id': u'abc', u'__v': 0, u'date': datetime.datetime(2020, 3, 23, 1, 6, 43, 350000), u'_id': ObjectId('5e780ba89feb33150f84773b'), u'class': u'a cactus'}\n",
      "{u'age': u'age8', u'session_id': u'cdm_run_v51560274881372', u'filename': u'a cactus_sketch_age8_cdm_run_v51560274881372.png', u'worker_id': u'abc', u'__v': 0, u'date': datetime.datetime(2020, 3, 23, 1, 6, 44, 173000), u'_id': ObjectId('5e780ba89feb33150f84773c'), u'class': u'a cactus'}\n",
      "{u'age': u'age5', u'session_id': u'cdm_run_v51555439731643', u'filename': u'a cactus_sketch_age5_cdm_run_v51555439731643.png', u'worker_id': u'abc', u'__v': 0, u'date': datetime.datetime(2020, 3, 23, 1, 6, 46, 791000), u'_id': ObjectId('5e780ba89feb33150f84773d'), u'class': u'a cactus'}\n",
      "{u'age': u'age6', u'session_id': u'cdm_run_v51558814651222', u'filename': u'a hat_sketch_age6_cdm_run_v51558814651222.png', u'worker_id': u'abc', u'__v': 0, u'date': datetime.datetime(2020, 3, 23, 1, 6, 51, 168000), u'_id': ObjectId('5e780bb09feb33150f84773e'), u'class': u'a hat'}\n",
      "{u'age': u'age5', u'session_id': u'cdm_run_v51558300363058', u'filename': u'a hat_sketch_age5_cdm_run_v51558300363058.png', u'worker_id': u'abc', u'__v': 0, u'date': datetime.datetime(2020, 3, 23, 1, 6, 52, 533000), u'_id': ObjectId('5e780bb09feb33150f84773f'), u'class': u'a hat'}\n",
      "{u'age': u'age2', u'session_id': u'cdm_run_v51557001534011', u'filename': u'a hat_sketch_age2_cdm_run_v51557001534011.png', u'worker_id': u'abc', u'__v': 0, u'date': datetime.datetime(2020, 3, 23, 1, 6, 53, 381000), u'_id': ObjectId('5e780bb09feb33150f847740'), u'class': u'a hat'}\n",
      "{u'age': u'age8', u'session_id': u'cdm_run_v51556818954146', u'filename': u'a hat_sketch_age8_cdm_run_v51556818954146.png', u'worker_id': u'abc', u'__v': 0, u'date': datetime.datetime(2020, 3, 23, 1, 6, 54, 91000), u'_id': ObjectId('5e780bb09feb33150f847741'), u'class': u'a hat'}\n",
      "{u'age': u'age3', u'session_id': u'cdm_run_v51552673043456', u'filename': u'a hat_sketch_age3_cdm_run_v51552673043456.png', u'worker_id': u'abc', u'__v': 0, u'date': datetime.datetime(2020, 3, 23, 1, 6, 54, 820000), u'_id': ObjectId('5e780bb09feb33150f847742'), u'class': u'a hat'}\n",
      "{u'age': u'age4', u'session_id': u'cdm_run_v51551568336375', u'filename': u'a hat_sketch_age4_cdm_run_v51551568336375.png', u'worker_id': u'abc', u'__v': 0, u'date': datetime.datetime(2020, 3, 23, 1, 6, 55, 594000), u'_id': ObjectId('5e780bb09feb33150f847743'), u'class': u'a hat'}\n",
      "{u'age': u'age3', u'session_id': u'cdm_run_v51560122325882', u'filename': u'a bottle_sketch_age3_cdm_run_v51560122325882.png', u'worker_id': u'abc', u'__v': 0, u'date': datetime.datetime(2020, 3, 23, 1, 6, 58, 995000), u'_id': ObjectId('5e780bb59feb33150f847744'), u'class': u'a bottle'}\n",
      "{u'age': u'age2', u'session_id': u'cdm_run_v51557526172192', u'filename': u'a bottle_sketch_age2_cdm_run_v51557526172192.png', u'worker_id': u'abc', u'__v': 0, u'date': datetime.datetime(2020, 3, 23, 1, 6, 59, 835000), u'_id': ObjectId('5e780bb59feb33150f847745'), u'class': u'a bottle'}\n",
      "{u'age': u'age6', u'session_id': u'cdm_run_v51557082087084', u'filename': u'a lamp_sketch_age6_cdm_run_v51557082087084.png', u'worker_id': u'abc', u'__v': 0, u'date': datetime.datetime(2020, 3, 23, 1, 7, 4, 608000), u'_id': ObjectId('5e780bbd9feb33150f847746'), u'class': u'a lamp'}\n",
      "{u'age': u'age3', u'session_id': u'cdm_run_v51555963202270', u'filename': u'a lamp_sketch_age3_cdm_run_v51555963202270.png', u'worker_id': u'abc', u'__v': 0, u'date': datetime.datetime(2020, 3, 23, 1, 7, 5, 722000), u'_id': ObjectId('5e780bbd9feb33150f847747'), u'class': u'a lamp'}\n",
      "{u'age': u'age5', u'session_id': u'cdm_run_v51557091648486', u'filename': u'a lamp_sketch_age5_cdm_run_v51557091648486.png', u'worker_id': u'abc', u'__v': 0, u'date': datetime.datetime(2020, 3, 23, 1, 7, 6, 789000), u'_id': ObjectId('5e780bbd9feb33150f847748'), u'class': u'a lamp'}\n",
      "{u'age': u'age8', u'session_id': u'cdm_run_v51559501707942', u'filename': u'a lamp_sketch_age8_cdm_run_v51559501707942.png', u'worker_id': u'abc', u'__v': 0, u'date': datetime.datetime(2020, 3, 23, 1, 7, 7, 622000), u'_id': ObjectId('5e780bbd9feb33150f847749'), u'class': u'a lamp'}\n",
      "{u'age': u'age4', u'session_id': u'cdm_run_v51557607263137', u'filename': u'a bottle_sketch_age4_cdm_run_v51557607263137.png', u'worker_id': u'abc', u'__v': 0, u'date': datetime.datetime(2020, 3, 23, 21, 49, 40, 9000), u'_id': ObjectId('5e792ef80e4b6e23090ba1b6'), u'class': u'a bottle'}\n",
      "{u'age': u'age5', u'session_id': u'cdm_run_v51558558573619', u'filename': u'a bottle_sketch_age5_cdm_run_v51558558573619.png', u'worker_id': u'abc', u'__v': 0, u'date': datetime.datetime(2020, 3, 23, 21, 49, 41, 834000), u'_id': ObjectId('5e792ef80e4b6e23090ba1b7'), u'class': u'a bottle'}\n",
      "{u'age': u'age4', u'session_id': u'cdm_run_v51555609708962', u'filename': u'a bottle_sketch_age4_cdm_run_v51555609708962.png', u'worker_id': u'abc', u'__v': 0, u'date': datetime.datetime(2020, 3, 23, 21, 49, 43, 377000), u'_id': ObjectId('5e792ef80e4b6e23090ba1b8'), u'class': u'a bottle'}\n",
      "{u'age': u'age9', u'session_id': u'cdm_run_v51553885975528', u'filename': u'a camel_sketch_age9_cdm_run_v51553885975528.png', u'worker_id': u'abc', u'__v': 0, u'date': datetime.datetime(2020, 3, 23, 21, 50, 22, 970000), u'_id': ObjectId('5e792f210e4b6e23090ba1b9'), u'class': u'a camel'}\n",
      "{u'age': u'age3', u'session_id': u'cdm_run_v51553624274877', u'filename': u'a bottle_sketch_age3_cdm_run_v51553624274877.png', u'worker_id': u'abc', u'__v': 0, u'date': datetime.datetime(2020, 3, 23, 21, 50, 28, 387000), u'_id': ObjectId('5e792f2b0e4b6e23090ba1ba'), u'class': u'a bottle'}\n",
      "{u'age': u'age2', u'session_id': u'cdm_run_v51553365717632', u'filename': u'a bottle_sketch_age2_cdm_run_v51553365717632.png', u'worker_id': u'abc', u'__v': 0, u'date': datetime.datetime(2020, 3, 23, 21, 50, 30, 4000), u'_id': ObjectId('5e792f2b0e4b6e23090ba1bb'), u'class': u'a bottle'}\n",
      "{u'age': u'age3', u'session_id': u'cdm_run_v51553719290359', u'filename': u'a bottle_sketch_age3_cdm_run_v51553719290359.png', u'worker_id': u'abc', u'__v': 0, u'date': datetime.datetime(2020, 3, 23, 21, 50, 31, 22000), u'_id': ObjectId('5e792f2b0e4b6e23090ba1bc'), u'class': u'a bottle'}\n",
      "{u'age': u'age4', u'session_id': u'cdm_run_v51557949727784', u'filename': u'a bottle_sketch_age4_cdm_run_v51557949727784.png', u'worker_id': u'abc', u'__v': 0, u'date': datetime.datetime(2020, 3, 23, 21, 50, 33, 113000), u'_id': ObjectId('5e792f2b0e4b6e23090ba1bd'), u'class': u'a bottle'}\n",
      "{u'age': u'age4', u'session_id': u'cdm_run_v51553457350419', u'filename': u'a camel_sketch_age4_cdm_run_v51553457350419.png', u'worker_id': u'abc', u'__v': 0, u'date': datetime.datetime(2020, 3, 23, 22, 16, 14, 207000), u'_id': ObjectId('5e7935350e4b6e23090ba1be'), u'class': u'a camel'}\n",
      "{u'age': u'age6', u'session_id': u'cdm_run_v51553202122100', u'filename': u'a camel_sketch_age6_cdm_run_v51553202122100.png', u'worker_id': u'abc', u'__v': 0, u'date': datetime.datetime(2020, 3, 23, 22, 16, 15, 716000), u'_id': ObjectId('5e7935350e4b6e23090ba1bf'), u'class': u'a camel'}\n",
      "{u'age': u'age3', u'session_id': u'cdm_run_v51553366678343', u'filename': u'a camel_sketch_age3_cdm_run_v51553366678343.png', u'worker_id': u'abc', u'__v': 0, u'date': datetime.datetime(2020, 3, 23, 22, 16, 16, 460000), u'_id': ObjectId('5e7935350e4b6e23090ba1c0'), u'class': u'a camel'}\n",
      "{u'age': u'age6', u'session_id': u'cdm_run_v51558819176007', u'filename': u'a camel_sketch_age6_cdm_run_v51558819176007.png', u'worker_id': u'abc', u'__v': 0, u'date': datetime.datetime(2020, 3, 23, 22, 16, 18, 461000), u'_id': ObjectId('5e7935350e4b6e23090ba1c1'), u'class': u'a camel'}\n",
      "{u'age': u'age2', u'session_id': u'cdm_run_v51553196050467', u'filename': u'a camel_sketch_age2_cdm_run_v51553196050467.png', u'worker_id': u'abc', u'__v': 0, u'date': datetime.datetime(2020, 3, 23, 22, 16, 19, 457000), u'_id': ObjectId('5e7935350e4b6e23090ba1c2'), u'class': u'a camel'}\n",
      "{u'age': u'age3', u'session_id': u'cdm_run_v51559238546713', u'filename': u'a camel_sketch_age3_cdm_run_v51559238546713.png', u'worker_id': u'abc', u'__v': 0, u'date': datetime.datetime(2020, 3, 23, 22, 16, 20, 70000), u'_id': ObjectId('5e7935350e4b6e23090ba1c3'), u'class': u'a camel'}\n",
      "{u'age': u'age3', u'session_id': u'cdm_run_v51559168109481', u'filename': u'a bottle_sketch_age3_cdm_run_v51559168109481.png', u'worker_id': u'abc', u'__v': 0, u'date': datetime.datetime(2020, 3, 24, 0, 40, 47, 879000), u'_id': ObjectId('5e795714470514277c14b6f6'), u'class': u'a bottle'}\n",
      "{u'age': u'age2', u'session_id': u'cdm_run_v51554415896767', u'filename': u'a bottle_sketch_age2_cdm_run_v51554415896767.png', u'worker_id': u'abc', u'__v': 0, u'date': datetime.datetime(2020, 3, 24, 0, 40, 48, 879000), u'_id': ObjectId('5e795714470514277c14b6f7'), u'class': u'a bottle'}\n",
      "{u'age': u'age3', u'session_id': u'cdm_run_v51551655716898', u'filename': u'a bottle_sketch_age3_cdm_run_v51551655716898.png', u'worker_id': u'abc', u'__v': 0, u'date': datetime.datetime(2020, 3, 24, 0, 40, 50, 172000), u'_id': ObjectId('5e795714470514277c14b6f8'), u'class': u'a bottle'}\n",
      "{u'age': u'age2', u'session_id': u'cdm_run_v51557001534011', u'filename': u'a bottle_sketch_age2_cdm_run_v51557001534011.png', u'worker_id': u'abc', u'__v': 0, u'date': datetime.datetime(2020, 3, 24, 0, 40, 51, 455000), u'_id': ObjectId('5e795714470514277c14b6f9'), u'class': u'a bottle'}\n",
      "{u'age': u'age2', u'session_id': u'cdm_run_v51558114626994', u'filename': u'shape_sketch_age2_cdm_run_v51558114626994.png', u'worker_id': u'abc', u'__v': 0, u'date': datetime.datetime(2020, 3, 24, 0, 40, 55, 670000), u'_id': ObjectId('5e79571b470514277c14b6fa'), u'class': u'shape'}\n",
      "{u'age': u'age6', u'session_id': u'cdm_run_v51558982818703', u'filename': u'shape_sketch_age6_cdm_run_v51558982818703.png', u'worker_id': u'abc', u'__v': 0, u'date': datetime.datetime(2020, 3, 24, 0, 40, 56, 695000), u'_id': ObjectId('5e79571b470514277c14b6fb'), u'class': u'shape'}\n",
      "{u'age': u'age3', u'session_id': u'cdm_run_v51558907064732', u'filename': u'shape_sketch_age3_cdm_run_v51558907064732.png', u'worker_id': u'abc', u'__v': 0, u'date': datetime.datetime(2020, 3, 24, 0, 40, 57, 679000), u'_id': ObjectId('5e79571b470514277c14b6fc'), u'class': u'shape'}\n",
      "{u'age': u'age2', u'session_id': u'cdm_run_v51551566293852', u'filename': u'a camel_sketch_age2_cdm_run_v51551566293852.png', u'worker_id': u'abc', u'__v': 0, u'date': datetime.datetime(2020, 3, 24, 0, 41, 1, 152000), u'_id': ObjectId('5e795721470514277c14b6fd'), u'class': u'a camel'}\n",
      "{u'age': u'age7', u'session_id': u'cdm_run_v51556821910089', u'filename': u'a camel_sketch_age7_cdm_run_v51556821910089.png', u'worker_id': u'abc', u'__v': 0, u'date': datetime.datetime(2020, 3, 24, 0, 41, 2, 411000), u'_id': ObjectId('5e795721470514277c14b6fe'), u'class': u'a camel'}\n",
      "{u'age': u'age4', u'session_id': u'cdm_run_v51554409518093', u'filename': u'a camel_sketch_age4_cdm_run_v51554409518093.png', u'worker_id': u'abc', u'__v': 0, u'date': datetime.datetime(2020, 3, 24, 0, 41, 3, 978000), u'_id': ObjectId('5e795721470514277c14b6ff'), u'class': u'a camel'}\n",
      "{u'age': u'age2', u'session_id': u'cdm_run_v51559153644842', u'filename': u'square_sketch_age2_cdm_run_v51559153644842.png', u'worker_id': u'abc', u'__v': 0, u'date': datetime.datetime(2020, 3, 24, 0, 41, 14, 992000), u'_id': ObjectId('5e79572b470514277c14b700'), u'class': u'square'}\n",
      "{u'age': u'age3', u'session_id': u'cdm_run_v51553630994448', u'filename': u'a whale_sketch_age3_cdm_run_v51553630994448.png', u'worker_id': u'abc', u'__v': 0, u'date': datetime.datetime(2020, 3, 24, 0, 41, 52, 235000), u'_id': ObjectId('5e795753470514277c14b701'), u'class': u'a whale'}\n",
      "{u'age': u'age4', u'session_id': u'cdm_run_v51557256393998', u'filename': u'a tiger_sketch_age4_cdm_run_v51557256393998.png', u'worker_id': u'abc', u'__v': 0, u'date': datetime.datetime(2020, 3, 24, 0, 41, 57, 742000), u'_id': ObjectId('5e795758470514277c14b702'), u'class': u'a tiger'}\n",
      "{u'age': u'age3', u'session_id': u'cdm_run_v51552416325491', u'filename': u'a tiger_sketch_age3_cdm_run_v51552416325491.png', u'worker_id': u'abc', u'__v': 0, u'date': datetime.datetime(2020, 3, 24, 0, 41, 58, 945000), u'_id': ObjectId('5e795758470514277c14b703'), u'class': u'a tiger'}\n",
      "{u'age': u'age10', u'session_id': u'cdm_run_v51551566413312', u'filename': u'this square_sketch_age10_cdm_run_v51551566413312.png', u'worker_id': u'abc', u'__v': 0, u'date': datetime.datetime(2020, 3, 24, 0, 42, 2, 71000), u'_id': ObjectId('5e79575e470514277c14b704'), u'class': u'this square'}\n",
      "{u'age': u'age2', u'session_id': u'cdm_run_v51553713309345', u'filename': u'a cactus_sketch_age2_cdm_run_v51553713309345.png', u'worker_id': u'abc', u'__v': 0, u'date': datetime.datetime(2020, 3, 24, 0, 42, 14, 407000), u'_id': ObjectId('5e795768470514277c14b705'), u'class': u'a cactus'}\n",
      "{u'age': u'age5', u'session_id': u'cdm_run_v51553722412744', u'filename': u'a cactus_sketch_age5_cdm_run_v51553722412744.png', u'worker_id': u'abc', u'__v': 0, u'date': datetime.datetime(2020, 3, 24, 0, 42, 15, 103000), u'_id': ObjectId('5e795768470514277c14b706'), u'class': u'a cactus'}\n",
      "{u'age': u'age4', u'session_id': u'cdm_run_v51551382115374', u'filename': u'a lamp_sketch_age4_cdm_run_v51551382115374.png', u'worker_id': u'abc', u'__v': 0, u'date': datetime.datetime(2020, 3, 24, 0, 42, 19, 309000), u'_id': ObjectId('5e79576c470514277c14b707'), u'class': u'a lamp'}\n",
      "{u'age': u'age2', u'session_id': u'cdm_run_v51554665411294', u'filename': u'a whale_sketch_age2_cdm_run_v51554665411294.png', u'worker_id': u'abc', u'__v': 0, u'date': datetime.datetime(2020, 3, 24, 6, 45, 5, 92000), u'_id': ObjectId('5e79ac7a470514277c14b708'), u'class': u'a whale'}\n",
      "{u'age': u'age6', u'session_id': u'cdm_run_v51560539054002', u'filename': u'a whale_sketch_age6_cdm_run_v51560539054002.png', u'worker_id': u'abc', u'__v': 0, u'date': datetime.datetime(2020, 3, 24, 6, 45, 7, 20000), u'_id': ObjectId('5e79ac7a470514277c14b709'), u'class': u'a whale'}\n",
      "{u'age': u'age4', u'session_id': u'cdm_run_v51552690985575', u'filename': u'a whale_sketch_age4_cdm_run_v51552690985575.png', u'worker_id': u'abc', u'__v': 0, u'date': datetime.datetime(2020, 3, 24, 6, 45, 7, 748000), u'_id': ObjectId('5e79ac7a470514277c14b70a'), u'class': u'a whale'}\n",
      "{u'age': u'age4', u'session_id': u'cdm_run_v51560289055430', u'filename': u'a whale_sketch_age4_cdm_run_v51560289055430.png', u'worker_id': u'abc', u'__v': 0, u'date': datetime.datetime(2020, 3, 24, 6, 45, 8, 402000), u'_id': ObjectId('5e79ac7a470514277c14b70b'), u'class': u'a whale'}\n",
      "{u'age': u'age2', u'session_id': u'cdm_run_v51553799870318', u'filename': u'a whale_sketch_age2_cdm_run_v51553799870318.png', u'worker_id': u'abc', u'__v': 0, u'date': datetime.datetime(2020, 3, 24, 6, 45, 10, 728000), u'_id': ObjectId('5e79ac7a470514277c14b70c'), u'class': u'a whale'}\n",
      "{u'age': u'age6', u'session_id': u'cdm_run_v51555437132132', u'filename': u'a whale_sketch_age6_cdm_run_v51555437132132.png', u'worker_id': u'abc', u'__v': 0, u'date': datetime.datetime(2020, 3, 24, 6, 45, 11, 899000), u'_id': ObjectId('5e79ac7a470514277c14b70d'), u'class': u'a whale'}\n",
      "{u'age': u'age7', u'session_id': u'cdm_run_v51558809474892', u'filename': u'a whale_sketch_age7_cdm_run_v51558809474892.png', u'worker_id': u'abc', u'__v': 0, u'date': datetime.datetime(2020, 3, 24, 6, 45, 13, 13000), u'_id': ObjectId('5e79ac7a470514277c14b70e'), u'class': u'a whale'}\n",
      "{u'age': u'age6', u'session_id': u'cdm_run_v51556223436070', u'filename': u'a lamp_sketch_age6_cdm_run_v51556223436070.png', u'worker_id': u'abc', u'__v': 0, u'date': datetime.datetime(2020, 3, 24, 6, 45, 17, 327000), u'_id': ObjectId('5e79ac80470514277c14b70f'), u'class': u'a lamp'}\n",
      "{u'age': u'age2', u'session_id': u'cdm_run_v51553713309345', u'filename': u'a lamp_sketch_age2_cdm_run_v51553713309345.png', u'worker_id': u'abc', u'__v': 0, u'date': datetime.datetime(2020, 3, 24, 6, 45, 18, 149000), u'_id': ObjectId('5e79ac80470514277c14b710'), u'class': u'a lamp'}\n",
      "{u'age': u'age4', u'session_id': u'cdm_run_v51559066630767', u'filename': u'a lamp_sketch_age4_cdm_run_v51559066630767.png', u'worker_id': u'abc', u'__v': 0, u'date': datetime.datetime(2020, 3, 24, 6, 45, 18, 812000), u'_id': ObjectId('5e79ac80470514277c14b711'), u'class': u'a lamp'}\n",
      "{u'age': u'age3', u'session_id': u'cdm_run_v51553632017453', u'filename': u'this square_sketch_age3_cdm_run_v51553632017453.png', u'worker_id': u'abc', u'__v': 0, u'date': datetime.datetime(2020, 3, 24, 6, 45, 21, 486000), u'_id': ObjectId('5e79ac85470514277c14b712'), u'class': u'this square'}\n",
      "{u'age': u'age2', u'session_id': u'cdm_run_v51551551562660', u'filename': u'this square_sketch_age2_cdm_run_v51551551562660.png', u'worker_id': u'abc', u'__v': 0, u'date': datetime.datetime(2020, 3, 24, 6, 45, 23, 134000), u'_id': ObjectId('5e79ac85470514277c14b713'), u'class': u'this square'}\n",
      "{u'age': u'age5', u'session_id': u'cdm_run_v51560201763325', u'filename': u'this square_sketch_age5_cdm_run_v51560201763325.png', u'worker_id': u'abc', u'__v': 0, u'date': datetime.datetime(2020, 3, 24, 6, 45, 24, 118000), u'_id': ObjectId('5e79ac85470514277c14b714'), u'class': u'this square'}\n"
     ]
    }
   ],
   "source": [
    "cursor = coll.find()\n",
    "for document in cursor:\n",
    "      print(document)"
   ]
  },
  {
   "cell_type": "code",
   "execution_count": null,
   "metadata": {},
   "outputs": [],
   "source": []
  }
 ],
 "metadata": {
  "kernelspec": {
   "display_name": "Python 2",
   "language": "python",
   "name": "python2"
  },
  "language_info": {
   "codemirror_mode": {
    "name": "ipython",
    "version": 2
   },
   "file_extension": ".py",
   "mimetype": "text/x-python",
   "name": "python",
   "nbconvert_exporter": "python",
   "pygments_lexer": "ipython2",
   "version": "2.7.17"
  }
 },
 "nbformat": 4,
 "nbformat_minor": 2
}
